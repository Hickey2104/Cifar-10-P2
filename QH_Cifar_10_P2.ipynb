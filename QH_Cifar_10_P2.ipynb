{
  "cells": [
    {
      "cell_type": "code",
      "execution_count": null,
      "metadata": {
        "id": "bZhV1Wpyr6C6"
      },
      "outputs": [],
      "source": [
        "import torch\n",
        "import torch.nn as nn\n",
        "import torch.optim as optim\n",
        "import torchvision\n",
        "import torchvision.transforms as transforms\n",
        "from torchvision.models import resnet50, ResNet50_Weights\n",
        "from torch.utils.data import DataLoader\n",
        "from sklearn.metrics import f1_score\n"
      ]
    },
    {
      "cell_type": "code",
      "execution_count": null,
      "metadata": {
        "id": "H5IuU1FJsH3f"
      },
      "outputs": [],
      "source": [
        "# Cell 2: Transforms\n",
        "weights = ResNet50_Weights.DEFAULT\n",
        "transform = transforms.Compose([\n",
        "    transforms.Resize((224, 224)),\n",
        "    transforms.ToTensor(),\n",
        "    weights.transforms()\n",
        "    ])"
      ]
    },
    {
      "cell_type": "code",
      "execution_count": null,
      "metadata": {
        "id": "yZOGFg3GsLMG"
      },
      "outputs": [],
      "source": [
        "# Cell 3: Data Loaders\n",
        "trainset = torchvision.datasets.CIFAR10(root='/content/drive/MyDrive/CIFAR-10-images-master/CIFAR-10-images-master/train', train=True,\n",
        "                                        download=True, transform=transform)\n",
        "trainloader = torch.utils.data.DataLoader(trainset, batch_size=64,\n",
        "                                          shuffle=True, num_workers=2)\n",
        "\n",
        "testset = torchvision.datasets.CIFAR10(root='/content/drive/MyDrive/CIFAR-10-images-master/CIFAR-10-images-master/test', train=False,\n",
        "                                       download=True, transform=transform)\n",
        "testloader = torch.utils.data.DataLoader(testset, batch_size=64,\n",
        "                                         shuffle=False, num_workers=2)\n",
        "classes = trainset.classes"
      ]
    },
    {
      "cell_type": "code",
      "execution_count": null,
      "metadata": {
        "id": "VHyZqp2_sRsx",
        "colab": {
          "base_uri": "https://localhost:8080/"
        },
        "outputId": "b5f9eec7-ea4f-4310-c603-94ec28a01626"
      },
      "outputs": [
        {
          "output_type": "stream",
          "name": "stderr",
          "text": [
            "Downloading: \"https://download.pytorch.org/models/resnet50-11ad3fa6.pth\" to /root/.cache/torch/hub/checkpoints/resnet50-11ad3fa6.pth\n",
            "100%|██████████| 97.8M/97.8M [00:00<00:00, 156MB/s]\n"
          ]
        }
      ],
      "source": [
        "# Cell 4: Model Setup\n",
        "device = torch.device(\"cuda\" if torch.cuda.is_available() else \"cpu\")\n",
        "\n",
        "model = resnet50(weights=weights)\n",
        "model.fc = nn.Linear(model.fc.in_features, 10)\n",
        "model = model.to(device)"
      ]
    },
    {
      "cell_type": "code",
      "execution_count": null,
      "metadata": {
        "id": "Srw60nhxsWrb"
      },
      "outputs": [],
      "source": [
        "# Cell 5: Loss & Optimizer\n",
        "criterion = nn.CrossEntropyLoss()\n",
        "optimizer = optim.Adam(model.parameters(), lr=0.001)"
      ]
    },
    {
      "cell_type": "code",
      "execution_count": null,
      "metadata": {
        "colab": {
          "base_uri": "https://localhost:8080/"
        },
        "id": "pF6yv_2Jsrxg",
        "outputId": "4768832d-e67a-4ac5-a68a-a4318b3f0ffe"
      },
      "outputs": [
        {
          "output_type": "stream",
          "name": "stdout",
          "text": [
            "[1,   100] loss: 0.926\n",
            "[1,   200] loss: 0.563\n",
            "[1,   300] loss: 0.525\n",
            "[1,   400] loss: 0.456\n",
            "[1,   500] loss: 0.415\n",
            "[1,   600] loss: 0.397\n",
            "[1,   700] loss: 0.384\n",
            "[2,   100] loss: 0.288\n",
            "[2,   200] loss: 0.271\n",
            "[2,   300] loss: 0.284\n",
            "[2,   400] loss: 0.293\n",
            "[2,   500] loss: 0.312\n",
            "[2,   600] loss: 0.277\n",
            "[2,   700] loss: 0.288\n",
            "Finished Training\n"
          ]
        }
      ],
      "source": [
        "# Cell 6: Training Loop\n",
        "for epoch in range(2):  # Adjust as needed\n",
        "    running_loss = 0.0\n",
        "    model.train()\n",
        "    for i, data in enumerate(trainloader, 0):\n",
        "        inputs, labels = data[0].to(device), data[1].to(device)\n",
        "\n",
        "        optimizer.zero_grad()\n",
        "        outputs = model(inputs)\n",
        "        loss = criterion(outputs, labels)\n",
        "        loss.backward()\n",
        "        optimizer.step()\n",
        "\n",
        "        running_loss += loss.item()\n",
        "        if i % 100 == 99:\n",
        "            print(f\"[{epoch + 1}, {i + 1:5d}] loss: {running_loss / 100:.3f}\")\n",
        "            running_loss = 0.0\n",
        "\n",
        "print(\"Finished Training\")\n"
      ]
    },
    {
      "cell_type": "code",
      "execution_count": null,
      "metadata": {
        "id": "yQNtLH1dsw3F",
        "colab": {
          "base_uri": "https://localhost:8080/"
        },
        "outputId": "076f1a51-1c00-46dc-b497-ca1a4228274b"
      },
      "outputs": [
        {
          "output_type": "stream",
          "name": "stdout",
          "text": [
            "Accuracy on the 10000 test images: 88.70%\n",
            "Weighted F1 Score: 0.8874\n"
          ]
        }
      ],
      "source": [
        "# Cell 7: Evaluation with Accuracy and F1 Score\n",
        "correct = 0\n",
        "total = 0\n",
        "all_labels = []\n",
        "all_preds = []\n",
        "\n",
        "model.eval()\n",
        "with torch.no_grad():\n",
        "    for data in testloader:\n",
        "        images, labels = data[0].to(device), data[1].to(device)\n",
        "        outputs = model(images)\n",
        "        _, predicted = torch.max(outputs.data, 1)\n",
        "\n",
        "        total += labels.size(0)\n",
        "        correct += (predicted == labels).sum().item()\n",
        "\n",
        "        all_labels.extend(labels.cpu().numpy())\n",
        "        all_preds.extend(predicted.cpu().numpy())\n",
        "\n",
        "accuracy = 100 * correct / total\n",
        "f1 = f1_score(all_labels, all_preds, average='weighted')\n",
        "\n",
        "print(f\"Accuracy on the 10000 test images: {accuracy:.2f}%\")\n",
        "print(f\"Weighted F1 Score: {f1:.4f}\")"
      ]
    }
  ],
  "metadata": {
    "accelerator": "GPU",
    "colab": {
      "gpuType": "T4",
      "provenance": []
    },
    "kernelspec": {
      "display_name": "Python 3",
      "name": "python3"
    },
    "language_info": {
      "name": "python"
    }
  },
  "nbformat": 4,
  "nbformat_minor": 0
}